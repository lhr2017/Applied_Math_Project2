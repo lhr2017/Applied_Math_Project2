{
  "cells": [
    {
      "cell_type": "code",
      "source": [
        "using LinearAlgebra"
      ],
      "outputs": [],
      "execution_count": 1,
      "metadata": {
        "collapsed": true,
        "jupyter": {
          "source_hidden": false,
          "outputs_hidden": false
        },
        "nteract": {
          "transient": {
            "deleting": false
          }
        },
        "execution": {
          "iopub.status.busy": "2020-10-21T02:41:23.754Z",
          "iopub.execute_input": "2020-10-21T02:41:24.399Z",
          "iopub.status.idle": "2020-10-21T02:41:24.596Z"
        }
      }
    },
    {
      "cell_type": "code",
      "source": [
        "A = [0 .5 .5 0 0; 0 0 0 1 0; 1/3 1/3 0 1/3 0; 1/3 0 1/3 0 1/3; 1 0 0 0 0]\n",
        "v = [.2; .2; .2; .2; .2]\n",
        "u = 0\n",
        "\n",
        "while v != u\n",
        "  u = v\n",
        "  v = A' * v\n",
        "end\n",
        "\n",
        "v * 100"
      ],
      "outputs": [
        {
          "output_type": "execute_result",
          "execution_count": 8,
          "data": {
            "text/plain": "5-element Array{Float64,1}:\n 24.561403508771868\n 19.29824561403504\n 21.052631578947317\n 26.31578947368415\n  8.771929824561383"
          },
          "metadata": {}
        }
      ],
      "execution_count": 8,
      "metadata": {
        "collapsed": true,
        "jupyter": {
          "source_hidden": false,
          "outputs_hidden": false
        },
        "nteract": {
          "transient": {
            "deleting": false
          }
        },
        "execution": {
          "iopub.status.busy": "2020-10-21T03:03:17.776Z",
          "iopub.execute_input": "2020-10-21T03:03:17.784Z",
          "iopub.status.idle": "2020-10-21T03:03:17.797Z"
        }
      }
    }
  ],
  "metadata": {
    "kernel_info": {
      "name": "julia-1.5"
    },
    "language_info": {
      "file_extension": ".jl",
      "name": "julia",
      "mimetype": "application/julia",
      "version": "1.5.0"
    },
    "kernelspec": {
      "argv": [
        "C:\\Users\\lane\\AppData\\Local\\JuliaPro-1.5.0-1\\Julia-1.5.0\\bin\\julia.exe",
        "-i",
        "--startup-file=yes",
        "--color=yes",
        "--project=@.",
        "C:\\Users\\lane\\.julia\\packages\\IJulia\\tOM8L\\src\\kernel.jl",
        "{connection_file}"
      ],
      "display_name": "Julia 1.5.0",
      "env": {},
      "interrupt_mode": "message",
      "language": "julia",
      "name": "julia-1.5"
    },
    "nteract": {
      "version": "0.25.1"
    }
  },
  "nbformat": 4,
  "nbformat_minor": 0
}