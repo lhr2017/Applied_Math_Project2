{
  "cells": [
    {
      "cell_type": "code",
      "source": [
        "using LinearAlgebra"
      ],
      "outputs": [],
      "execution_count": 1,
      "metadata": {
        "collapsed": true,
        "jupyter": {
          "source_hidden": false,
          "outputs_hidden": false
        },
        "nteract": {
          "transient": {
            "deleting": false
          }
        },
        "execution": {
          "iopub.status.busy": "2020-11-05T20:05:28.967Z",
          "iopub.execute_input": "2020-11-05T20:05:29.707Z",
          "iopub.status.idle": "2020-11-05T20:05:30.081Z"
        }
      }
    },
    {
      "cell_type": "code",
      "source": [
        "#QR Algorithm implemented as a function on a matrix, configurable to allow iterating over any provided number of steps.\n",
        "function QRAlgorithm(A,n)\n",
        "  for i = 1:n\n",
        "    Q,R = qr(A)\n",
        "    A = R*Q\n",
        "  end\n",
        "  A\n",
        "end"
      ],
      "outputs": [
        {
          "output_type": "execute_result",
          "execution_count": 2,
          "data": {
            "text/plain": "QRAlgorithm (generic function with 1 method)"
          },
          "metadata": {}
        }
      ],
      "execution_count": 2,
      "metadata": {
        "collapsed": true,
        "jupyter": {
          "source_hidden": false,
          "outputs_hidden": false
        },
        "nteract": {
          "transient": {
            "deleting": false
          }
        },
        "execution": {
          "iopub.status.busy": "2020-11-05T20:10:02.320Z",
          "iopub.execute_input": "2020-11-05T20:10:02.334Z",
          "iopub.status.idle": "2020-11-05T20:10:02.885Z"
        }
      }
    },
    {
      "cell_type": "code",
      "source": [
        "#Function used to retrieve the diagonal entries of a matrix\n",
        "function GetDiagonals(A)\n",
        "  n = size(A)[1]\n",
        "  output = zeros(n)\n",
        "  for i = 1:n\n",
        "    output[i] = A[i,i]\n",
        "  end\n",
        "  output\n",
        "end\n",
        "  "
      ],
      "outputs": [
        {
          "output_type": "execute_result",
          "execution_count": 3,
          "data": {
            "text/plain": "GetDiagonals (generic function with 1 method)"
          },
          "metadata": {}
        }
      ],
      "execution_count": 3,
      "metadata": {
        "collapsed": true,
        "jupyter": {
          "source_hidden": false,
          "outputs_hidden": false
        },
        "nteract": {
          "transient": {
            "deleting": false
          }
        },
        "execution": {
          "iopub.status.busy": "2020-11-05T20:10:11.460Z",
          "iopub.execute_input": "2020-11-05T20:10:11.469Z",
          "iopub.status.idle": "2020-11-05T20:10:11.599Z"
        }
      }
    },
    {
      "cell_type": "code",
      "source": [
        "#Contruction of the provided matrix\n",
        "A1 = [9 -7 -6 -13 -5; -7 5 -14 -8 -9; -6 -14 5 -5 -1; -13 -8 -5 13 5; -5 -9 -1 5 13]"
      ],
      "outputs": [
        {
          "output_type": "execute_result",
          "execution_count": 4,
          "data": {
            "text/plain": "5×5 Array{Int64,2}:\n   9   -7   -6  -13  -5\n  -7    5  -14   -8  -9\n  -6  -14    5   -5  -1\n -13   -8   -5   13   5\n  -5   -9   -1    5  13"
          },
          "metadata": {}
        }
      ],
      "execution_count": 4,
      "metadata": {
        "collapsed": true,
        "jupyter": {
          "source_hidden": false,
          "outputs_hidden": false
        },
        "nteract": {
          "transient": {
            "deleting": false
          }
        },
        "execution": {
          "iopub.status.busy": "2020-11-05T20:11:31.499Z",
          "iopub.execute_input": "2020-11-05T20:11:31.534Z",
          "iopub.status.idle": "2020-11-05T20:11:32.854Z"
        }
      }
    },
    {
      "cell_type": "code",
      "source": [
        "#Displaying the eigenvalues for comparison to our results.\n",
        "eigvals(A1)"
      ],
      "outputs": [
        {
          "output_type": "execute_result",
          "execution_count": 5,
          "data": {
            "text/plain": "5-element Array{Float64,1}:\n -20.188135264813763\n   5.4436770493809945\n  10.373436381368807\n  19.814756669304543\n  29.556265164759413"
          },
          "metadata": {}
        }
      ],
      "execution_count": 5,
      "metadata": {
        "collapsed": true,
        "jupyter": {
          "source_hidden": false,
          "outputs_hidden": false
        },
        "nteract": {
          "transient": {
            "deleting": false
          }
        },
        "execution": {
          "iopub.status.busy": "2020-11-05T20:11:34.157Z",
          "iopub.execute_input": "2020-11-05T20:11:34.171Z",
          "iopub.status.idle": "2020-11-05T20:11:35.865Z"
        }
      }
    },
    {
      "cell_type": "code",
      "source": [
        "#Evaluating our approximation for the eigenvalues with only 20 iterations of the QR algorithm. I noticed that three of our values were incredibly accurate, while the other two were far off.\n",
        "answer1 = QRAlgorithm(A1,20)\n",
        "GetDiagonals(answer1)"
      ],
      "outputs": [
        {
          "output_type": "execute_result",
          "execution_count": 7,
          "data": {
            "text/plain": "5-element Array{Float64,1}:\n  29.556252143009406\n  15.263998719742208\n -15.637364293441745\n  10.373436381273388\n   5.443677049416727"
          },
          "metadata": {}
        }
      ],
      "execution_count": 7,
      "metadata": {
        "collapsed": true,
        "jupyter": {
          "source_hidden": false,
          "outputs_hidden": false
        },
        "nteract": {
          "transient": {
            "deleting": false
          }
        },
        "execution": {
          "iopub.status.busy": "2020-11-05T20:12:11.104Z",
          "iopub.execute_input": "2020-11-05T20:12:11.117Z",
          "iopub.status.idle": "2020-11-05T20:12:11.134Z"
        }
      }
    },
    {
      "cell_type": "code",
      "source": [
        "#Displaying the full resulting matrix for observation. It is worth noting that the columns containing the worse approximations also have the non-diagonal entries furthest from zero.\n",
        "answer1"
      ],
      "outputs": [
        {
          "output_type": "execute_result",
          "execution_count": 8,
          "data": {
            "text/plain": "5×5 Array{Float64,2}:\n 29.5563        -0.00521345    -0.0240505    -5.00693e-8  -4.31144e-14\n -0.00521345    15.264        -12.7017       -1.03876e-5  -5.18237e-11\n -0.0240505    -12.7017       -15.6374       -4.24751e-5  -3.96636e-11\n -5.00693e-8    -1.03876e-5    -4.24751e-5   10.3734       1.32728e-5\n -4.05446e-14   -5.18186e-11   -3.96633e-11   1.32728e-5   5.44368"
          },
          "metadata": {}
        }
      ],
      "execution_count": 8,
      "metadata": {
        "collapsed": true,
        "jupyter": {
          "source_hidden": false,
          "outputs_hidden": false
        },
        "nteract": {
          "transient": {
            "deleting": false
          }
        },
        "execution": {
          "iopub.status.busy": "2020-11-05T20:12:39.305Z",
          "iopub.execute_input": "2020-11-05T20:12:39.323Z",
          "iopub.status.idle": "2020-11-05T20:12:40.331Z"
        }
      }
    },
    {
      "cell_type": "code",
      "source": [
        "#The number of iterations were progressively increased. Contrary to my assumption, this made the values that were inaccurate even further from the correct value. However, our zero terms were slowly improving. In short, I set a bound for how far off our zero terms can be and tried to approach it. That took too long to slowly increment, so I went for the nuclear option and chose 1000. That seemed to work.\n",
        "answer2 = QRAlgorithm(A1,1000)\n",
        "GetDiagonals(answer2)"
      ],
      "outputs": [
        {
          "output_type": "execute_result",
          "execution_count": 9,
          "data": {
            "text/plain": "5-element Array{Float64,1}:\n  29.556265164759363\n -20.188135264813496\n  19.81475666930462\n  10.373436381368819\n   5.44367704938099"
          },
          "metadata": {}
        }
      ],
      "execution_count": 9,
      "metadata": {
        "collapsed": true,
        "jupyter": {
          "source_hidden": false,
          "outputs_hidden": false
        },
        "nteract": {
          "transient": {
            "deleting": false
          }
        },
        "execution": {
          "iopub.status.busy": "2020-11-05T20:12:54.818Z",
          "iopub.execute_input": "2020-11-05T20:12:54.830Z",
          "iopub.status.idle": "2020-11-05T20:12:54.861Z"
        }
      }
    },
    {
      "cell_type": "code",
      "source": [
        "#Displaying the full resulting matrix for observation. Notice that the zero terms are much closer to zero. \n",
        "answer2"
      ],
      "outputs": [
        {
          "output_type": "execute_result",
          "execution_count": 10,
          "data": {
            "text/plain": "5×5 Array{Float64,2}:\n 29.5563          9.87254e-15   -2.05256e-16    5.73448e-15   -2.57031e-15\n  1.3967e-164   -20.1881        -1.26636e-6     7.12413e-15    2.07205e-15\n  4.62949e-172   -1.26636e-6    19.8148         1.33206e-14   -4.74111e-15\n  0.0             1.25439e-288   1.63296e-281  10.3734        -3.36138e-15\n  0.0             0.0            0.0            4.93485e-280   5.44368"
          },
          "metadata": {}
        }
      ],
      "execution_count": 10,
      "metadata": {
        "collapsed": true,
        "jupyter": {
          "source_hidden": false,
          "outputs_hidden": false
        },
        "nteract": {
          "transient": {
            "deleting": false
          }
        },
        "execution": {
          "iopub.status.busy": "2020-11-05T20:13:05.241Z",
          "iopub.execute_input": "2020-11-05T20:13:05.253Z",
          "iopub.status.idle": "2020-11-05T20:13:05.280Z"
        }
      }
    }
  ],
  "metadata": {
    "kernel_info": {
      "name": "julia-1.5"
    },
    "language_info": {
      "file_extension": ".jl",
      "name": "julia",
      "mimetype": "application/julia",
      "version": "1.5.0"
    },
    "kernelspec": {
      "argv": [
        "C:\\Users\\Sup\\AppData\\Local\\Programs\\Julia 1.5.0\\bin\\julia.exe",
        "-i",
        "--startup-file=yes",
        "--color=yes",
        "--project=@.",
        "C:\\Users\\Sup\\.julia\\packages\\IJulia\\tOM8L\\src\\kernel.jl",
        "{connection_file}"
      ],
      "display_name": "Julia 1.5.0",
      "env": {},
      "interrupt_mode": "message",
      "language": "julia",
      "name": "julia-1.5"
    },
    "nteract": {
      "version": "0.26.0"
    }
  },
  "nbformat": 4,
  "nbformat_minor": 0
}