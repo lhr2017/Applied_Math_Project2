{
  "cells": [
    {
      "cell_type": "markdown",
      "source": [
        "\n",
        "Project 2 Part 4\n",
        "----------------"
      ],
      "metadata": {
        "nteract": {
          "transient": {
            "deleting": false
          }
        }
      }
    },
    {
      "cell_type": "code",
      "source": [
        "using JLD\n",
        "using LinearAlgebra"
      ],
      "outputs": [],
      "execution_count": 1,
      "metadata": {
        "collapsed": true,
        "jupyter": {
          "source_hidden": false,
          "outputs_hidden": false
        },
        "nteract": {
          "transient": {
            "deleting": false
          }
        },
        "execution": {
          "iopub.status.busy": "2020-11-05T20:16:34.752Z",
          "iopub.execute_input": "2020-11-05T20:16:35.481Z",
          "iopub.status.idle": "2020-11-05T20:16:39.323Z"
        }
      }
    },
    {
      "cell_type": "code",
      "source": [
        "#Loading relevent data\n",
        "tdm = load(\"shake.jld\", \"tdm\")\n",
        "dict = load(\"shake.jld\", \"dictionary\")\n",
        "plays = load(\"shake.jld\", \"plays\")\n"
      ],
      "outputs": [
        {
          "output_type": "execute_result",
          "execution_count": 2,
          "data": {
            "text/plain": "33×1 Array{Any,2}:\n \"Cymbeline\"\n \"Love's Labours Lost\"\n \"Measure for Measure\"\n \"The Merchant of Venice\"\n \"A Midsummer Night's Dream\"\n \"Much Ado About Nothing\"\n \"Pericles, Prince of Tyre\"\n \"Taming of the Shrew\"\n \"The Tempest\"\n \"Troilus and Cressida\"\n \"Twelfth Night\"\n \"Two Gentlemen of Verona\"\n \"Winter's Tale\"\n ⋮\n \"Richard II\"\n \"Richard III\"\n \"Antony and Cleopatra\"\n \"Coriolanus\"\n \"Hamlet\"\n \"Julius Caesar\"\n \"King Lear\"\n \"Macbeth\"\n \"Othello\"\n \"Romeo and Juliet\"\n \"Timon of Athens\"\n \"Titus Andronicus\""
          },
          "metadata": {}
        }
      ],
      "execution_count": 2,
      "metadata": {
        "collapsed": true,
        "jupyter": {
          "source_hidden": false,
          "outputs_hidden": false
        },
        "nteract": {
          "transient": {
            "deleting": false
          }
        },
        "execution": {
          "iopub.status.busy": "2020-11-05T20:16:40.104Z",
          "iopub.execute_input": "2020-11-05T20:16:40.122Z",
          "iopub.status.idle": "2020-11-05T20:16:45.223Z"
        }
      }
    },
    {
      "cell_type": "code",
      "source": [
        "#Displaying the dictionary to more easily select words.\n",
        "dict"
      ],
      "outputs": [
        {
          "output_type": "execute_result",
          "execution_count": 3,
          "data": {
            "text/plain": "26126×1 Array{Any,2}:\n \"aaron\"\n \"aarons\"\n \"abaissiez\"\n \"abandon\"\n \"abandond\"\n \"abandoned\"\n \"abase\"\n \"abashd\"\n \"abate\"\n \"abated\"\n \"abatement\"\n \"abatements\"\n \"abates\"\n ⋮\n \"zealous\"\n \"zeals\"\n \"zed\"\n \"zenelophon\"\n \"zenith\"\n \"zephyrs\"\n \"zir\"\n \"zodiac\"\n \"zodiacs\"\n \"zone\"\n \"zounds\"\n \"zwaggered\""
          },
          "metadata": {}
        }
      ],
      "execution_count": 3,
      "metadata": {
        "collapsed": true,
        "jupyter": {
          "source_hidden": false,
          "outputs_hidden": false
        },
        "nteract": {
          "transient": {
            "deleting": false
          }
        },
        "execution": {
          "iopub.status.busy": "2020-11-05T20:16:51.126Z",
          "iopub.execute_input": "2020-11-05T20:16:51.140Z",
          "iopub.status.idle": "2020-11-05T20:16:51.165Z"
        }
      }
    },
    {
      "cell_type": "code",
      "source": [
        "#Query function, used to find the relevence of the documents, based on parameter q\n",
        "function query(A,q)\n",
        "  n,m=size(A)\n",
        "  B=zeros(n,m)\n",
        "  for j=1:m\n",
        "    B[:,j]=A[:,j]/norm(A[:,j])\n",
        "  end\n",
        "  q=q/norm(q)\n",
        "  w=B'*q\n",
        "  return w\n",
        "end"
      ],
      "outputs": [
        {
          "output_type": "execute_result",
          "execution_count": 4,
          "data": {
            "text/plain": "query (generic function with 1 method)"
          },
          "metadata": {}
        }
      ],
      "execution_count": 4,
      "metadata": {
        "collapsed": true,
        "jupyter": {
          "source_hidden": false,
          "outputs_hidden": false
        },
        "nteract": {
          "transient": {
            "deleting": false
          }
        },
        "execution": {
          "iopub.status.busy": "2020-11-05T20:17:05.086Z",
          "iopub.execute_input": "2020-11-05T20:17:05.106Z",
          "iopub.status.idle": "2020-11-05T20:17:05.467Z"
        }
      }
    },
    {
      "cell_type": "code",
      "source": [
        "#This function effectively converts a plain-text search into a query vector\n",
        "function giveQ(search_terms)\n",
        "  output = zeros(size(dict)[1])\n",
        "  for term in search_terms\n",
        "    index = findfirst(isequal(term),dict)\n",
        "    if typeof(index) != Nothing\n",
        "      output[index] = 1\n",
        "    end\n",
        "  end\n",
        "  output\n",
        "end"
      ],
      "outputs": [
        {
          "output_type": "execute_result",
          "execution_count": 5,
          "data": {
            "text/plain": "giveQ (generic function with 1 method)"
          },
          "metadata": {}
        }
      ],
      "execution_count": 5,
      "metadata": {
        "collapsed": true,
        "jupyter": {
          "source_hidden": false,
          "outputs_hidden": false
        },
        "nteract": {
          "transient": {
            "deleting": false
          }
        },
        "execution": {
          "iopub.status.busy": "2020-11-05T20:17:39.723Z",
          "iopub.execute_input": "2020-11-05T20:17:39.743Z",
          "iopub.status.idle": "2020-11-05T20:17:39.842Z"
        }
      }
    },
    {
      "cell_type": "code",
      "source": [
        "#Given the result from the query function, this lets you pull the relevent documents, determined by the threshold parameter. It then uses the plays document to return answers as actual play titles.\n",
        "function giveRelevent(q, threshold)\n",
        "  answers = findall(x -> x >= threshold, q)\n",
        "  plays[answers]\n",
        "end"
      ],
      "outputs": [
        {
          "output_type": "execute_result",
          "execution_count": 6,
          "data": {
            "text/plain": "giveRelevent (generic function with 1 method)"
          },
          "metadata": {}
        }
      ],
      "execution_count": 6,
      "metadata": {
        "collapsed": true,
        "jupyter": {
          "source_hidden": false,
          "outputs_hidden": false
        },
        "nteract": {
          "transient": {
            "deleting": false
          }
        },
        "execution": {
          "iopub.status.busy": "2020-11-05T20:17:59.161Z",
          "iopub.execute_input": "2020-11-05T20:17:59.172Z",
          "iopub.status.idle": "2020-11-05T20:17:59.277Z"
        }
      }
    },
    {
      "cell_type": "markdown",
      "source": [
        "\n",
        "Parts a and b\n",
        "-------------"
      ],
      "metadata": {
        "nteract": {
          "transient": {
            "deleting": false
          }
        }
      }
    },
    {
      "cell_type": "code",
      "source": [
        "#Using three terms from the dictionary gives the following results\n",
        "terms1 = [\"zenith\", \"abandoned\", \"zodiac\"]\n",
        "query1 = query(tdm, giveQ(terms1))\n",
        "giveRelevent(query1, 0.001)"
      ],
      "outputs": [
        {
          "output_type": "execute_result",
          "execution_count": 7,
          "data": {
            "text/plain": "2-element Array{Any,1}:\n \"The Tempest\"\n \"Titus Andronicus\""
          },
          "metadata": {}
        }
      ],
      "execution_count": 7,
      "metadata": {
        "collapsed": true,
        "jupyter": {
          "source_hidden": false,
          "outputs_hidden": false
        },
        "nteract": {
          "transient": {
            "deleting": false
          }
        },
        "execution": {
          "iopub.status.busy": "2020-11-05T20:18:12.081Z",
          "iopub.execute_input": "2020-11-05T20:18:12.095Z",
          "iopub.status.idle": "2020-11-05T20:18:13.509Z"
        }
      }
    },
    {
      "cell_type": "code",
      "source": [
        "#Doing likewise as above, but with five terms. It is worth mentioning that \"house\" stood out as such a disruptive phrase, the relevence threshold had to be changed to 0.02 in order to not just recieve every single document.\n",
        "terms2 = [\"zealous\", \"abashed\", \"abandon\", \"zone\", \"house\"]\n",
        "query2 = query(tdm, giveQ(terms2))\n",
        "giveRelevent(query2, 0.02)"
      ],
      "outputs": [
        {
          "output_type": "execute_result",
          "execution_count": 8,
          "data": {
            "text/plain": "3-element Array{Any,1}:\n \"The Merchant of Venice\"\n \"Taming of the Shrew\"\n \"Twelfth Night\""
          },
          "metadata": {}
        }
      ],
      "execution_count": 8,
      "metadata": {
        "collapsed": true,
        "jupyter": {
          "source_hidden": false,
          "outputs_hidden": false
        },
        "nteract": {
          "transient": {
            "deleting": false
          }
        },
        "execution": {
          "iopub.status.busy": "2020-11-05T20:18:47.477Z",
          "iopub.execute_input": "2020-11-05T20:18:47.492Z",
          "iopub.status.idle": "2020-11-05T20:18:47.519Z"
        }
      }
    },
    {
      "cell_type": "markdown",
      "source": [
        "Part c\n",
        "-"
      ],
      "metadata": {
        "nteract": {
          "transient": {
            "deleting": false
          }
        }
      }
    },
    {
      "cell_type": "code",
      "source": [
        "#This function returns the rank 10 estimation for our dictionary matrix.The matrix of A'A is only 33x33, so we can safely allow julia to find the eigen vectors and values used for the SVD. However, for AA', we need to manually calculate each of the ten columns being used.\n",
        "function Rank10Estimate(A)\n",
        "  ATA = A'A\n",
        "  \n",
        "  #SVD components are either evaluated or initialized\n",
        "  Sigma = zeros(10,10)\n",
        "  V = eigvecs(ATA)\n",
        "  U = zeros(26126,10)\n",
        "  \n",
        "  #We now iterate to construct both the sigma and U vectors\n",
        "  EV = (reverse(eigvals(ATA)))\n",
        "  for i = 1:10\n",
        "    Sigma[i,i] = sqrt(EV[i])\n",
        "    U[:,i] = (A*V[:,i])/sqrt(EV[i])\n",
        "  end\n",
        "  \n",
        "  #Matrix V is trimmed down to only have the 10 columns needed for the estimate\n",
        "  V = V[:,1:10]\n",
        "  \n",
        "  #Rank 10 estimate is then calculated and returned\n",
        "  estimate = U * Sigma * (V')\n",
        "  return estimate\n",
        "  \n",
        "  \n",
        "end"
      ],
      "outputs": [
        {
          "output_type": "execute_result",
          "execution_count": 14,
          "data": {
            "text/plain": "Rank10Estimate (generic function with 1 method)"
          },
          "metadata": {}
        }
      ],
      "execution_count": 14,
      "metadata": {
        "collapsed": true,
        "jupyter": {
          "source_hidden": false,
          "outputs_hidden": false
        },
        "nteract": {
          "transient": {
            "deleting": false
          }
        },
        "execution": {
          "iopub.status.busy": "2020-11-05T20:24:11.729Z",
          "iopub.execute_input": "2020-11-05T20:24:11.751Z",
          "iopub.status.idle": "2020-11-05T20:24:11.773Z"
        }
      }
    },
    {
      "cell_type": "code",
      "source": [
        "#We now obtain our rank 10 estimate to use with our previously shown search terms.\n",
        "Ak = Rank10Estimate(tdm)"
      ],
      "outputs": [
        {
          "output_type": "execute_result",
          "execution_count": 15,
          "data": {
            "text/plain": "26126×33 Array{Float64,2}:\n -0.569677    0.0365613    0.496025    …  -0.853506    1.05846\n -0.0227871   0.00146245   0.019841       -0.0341403   0.0423384\n  0.119773    0.0279226    0.00906437     -0.0654196   0.0353117\n -0.0161837   0.111104     0.00414608      0.236931   -0.0580767\n  0.0391666  -0.143915     0.0414479       0.243738   -0.0183725\n -0.0227871   0.00146245   0.019841    …  -0.0341403   0.0423384\n  0.0459727   0.0234844   -0.111041       -0.0690157  -0.00184967\n  0.0208102  -0.0247816   -0.0132676      -0.0025756  -0.00738667\n  1.309       0.377431     0.00948303     -0.325717    0.144288\n  0.0673405   0.0940875   -0.0671565      -0.233997   -0.0590507\n  0.525702   -0.105889    -0.0470225   …  -0.172676   -0.00804257\n  0.0339799  -0.034473     0.0171731       0.0228191   0.0239178\n -0.165178    0.00980017   0.00351649     -0.117529   -0.00205477\n  ⋮                                    ⋱              \n -0.240411    0.250847    -0.110659        0.328052   -0.0819269\n -0.0579032   0.0568182    0.0117909   …   0.236623   -0.0341403\n -0.0205599   0.0786009   -0.0158036      -0.163773    0.000315737\n -0.0098174   0.24059      0.00298661      0.0568182   0.00146245\n -0.165178    0.00980017   0.00351649     -0.117529   -0.00205477\n  0.632177   -0.0098174   -0.0638331      -0.0579032  -0.0227871\n -0.0411198   0.157202    -0.0316073   …  -0.327545    0.000631473\n -0.0227871   0.00146245   0.019841       -0.0341403   0.0423384\n -0.0638331   0.00298661   0.0441268       0.0117909   0.019841\n  0.0339799  -0.034473     0.0171731       0.0228191   0.0239178\n -0.311585    0.021668     0.556547       -0.649598    0.948271\n -0.0205599   0.0786009   -0.0158036   …  -0.163773    0.000315737"
          },
          "metadata": {}
        }
      ],
      "execution_count": 15,
      "metadata": {
        "collapsed": true,
        "jupyter": {
          "source_hidden": false,
          "outputs_hidden": false
        },
        "nteract": {
          "transient": {
            "deleting": false
          }
        },
        "execution": {
          "iopub.status.busy": "2020-11-05T20:24:28.005Z",
          "iopub.execute_input": "2020-11-05T20:24:28.027Z",
          "iopub.status.idle": "2020-11-05T20:24:28.126Z"
        }
      }
    },
    {
      "cell_type": "code",
      "source": [
        "#Reusing our first set of terms, shown in comments below. Notice that the approximation allows for some more to be returned when it was not before.\n",
        "#terms1 = [\"zenith\", \"abandoned\", \"zodiac\"]\n",
        "query3 = query(Ak, giveQ(terms1))\n",
        "giveRelevent(query3, 0.001)"
      ],
      "outputs": [
        {
          "output_type": "execute_result",
          "execution_count": 16,
          "data": {
            "text/plain": "6-element Array{Any,1}:\n \"The Merchant of Venice\"\n \"The Tempest\"\n \"Henry VIII\"\n \"Coriolanus\"\n \"Hamlet\"\n \"Titus Andronicus\""
          },
          "metadata": {}
        }
      ],
      "execution_count": 16,
      "metadata": {
        "collapsed": true,
        "jupyter": {
          "source_hidden": false,
          "outputs_hidden": false
        },
        "nteract": {
          "transient": {
            "deleting": false
          }
        },
        "execution": {
          "iopub.status.busy": "2020-11-05T20:24:32.950Z",
          "iopub.execute_input": "2020-11-05T20:24:32.962Z",
          "iopub.status.idle": "2020-11-05T20:24:32.985Z"
        }
      }
    },
    {
      "cell_type": "code",
      "source": [
        "#Just like above, terms2 is searched for in this rank10 estimate. In this case, the results have more pronounced differences. Taming of the Shrew is no longer present, and three other plays have now shown. This is likely due to how much the term \"house\" made many results similar in size, so small deviations are more noticable.\n",
        "#terms2 = [\"zealous\", \"abashed\", \"abandon\", \"zone\", \"house\"]\n",
        "query4 = query(Ak, giveQ(terms2))\n",
        "giveRelevent(query4, 0.02)\n"
      ],
      "outputs": [
        {
          "output_type": "execute_result",
          "execution_count": 17,
          "data": {
            "text/plain": "5-element Array{Any,1}:\n \"Measure for Measure\"\n \"The Merchant of Venice\"\n \"Twelfth Night\"\n \"Henry VI, part 3\"\n \"Richard III\""
          },
          "metadata": {}
        }
      ],
      "execution_count": 17,
      "metadata": {
        "collapsed": true,
        "jupyter": {
          "source_hidden": false,
          "outputs_hidden": false
        },
        "nteract": {
          "transient": {
            "deleting": false
          }
        },
        "execution": {
          "iopub.status.busy": "2020-11-05T20:24:36.982Z",
          "iopub.execute_input": "2020-11-05T20:24:36.996Z",
          "iopub.status.idle": "2020-11-05T20:24:37.015Z"
        }
      }
    }
  ],
  "metadata": {
    "kernel_info": {
      "name": "julia-1.5"
    },
    "language_info": {
      "file_extension": ".jl",
      "name": "julia",
      "mimetype": "application/julia",
      "version": "1.5.0"
    },
    "kernelspec": {
      "argv": [
        "C:\\Users\\Sup\\AppData\\Local\\Programs\\Julia 1.5.0\\bin\\julia.exe",
        "-i",
        "--startup-file=yes",
        "--color=yes",
        "--project=@.",
        "C:\\Users\\Sup\\.julia\\packages\\IJulia\\tOM8L\\src\\kernel.jl",
        "{connection_file}"
      ],
      "display_name": "Julia 1.5.0",
      "env": {},
      "interrupt_mode": "message",
      "language": "julia",
      "name": "julia-1.5"
    },
    "nteract": {
      "version": "0.26.0"
    }
  },
  "nbformat": 4,
  "nbformat_minor": 0
}