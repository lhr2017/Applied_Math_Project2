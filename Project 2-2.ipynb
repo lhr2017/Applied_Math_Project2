{
  "cells": [
    {
      "cell_type": "markdown",
      "source": [
        "Project 2 Problem 2"
      ],
      "metadata": {
        "nteract": {
          "transient": {
            "deleting": false
          }
        }
      }
    },
    {
      "cell_type": "code",
      "source": [
        "using Pkg\n",
        "Pkg.add(\"JLD\")\n",
        "Pkg.add(\"SparseArrays\")"
      ],
      "outputs": [
        {
          "output_type": "stream",
          "name": "stderr",
          "text": [
            "\u001b[32m\u001b[1m   Updating\u001b[22m\u001b[39m registry at `C:\\Users\\theve\\.julia\\registries\\General`\n",
            "\u001b[32m\u001b[1m  Resolving\u001b[22m\u001b[39m package versions...\n",
            "\u001b[32m\u001b[1mNo Changes\u001b[22m\u001b[39m to `C:\\Users\\theve\\.julia\\environments\\v1.5\\Project.toml`\n",
            "\u001b[32m\u001b[1mNo Changes\u001b[22m\u001b[39m to `C:\\Users\\theve\\.julia\\environments\\v1.5\\Manifest.toml`\n",
            "\u001b[32m\u001b[1m  Resolving\u001b[22m\u001b[39m package versions...\n",
            "\u001b[32m\u001b[1mNo Changes\u001b[22m\u001b[39m to `C:\\Users\\theve\\.julia\\environments\\v1.5\\Project.toml`\n",
            "\u001b[32m\u001b[1mNo Changes\u001b[22m\u001b[39m to `C:\\Users\\theve\\.julia\\environments\\v1.5\\Manifest.toml`\n"
          ]
        }
      ],
      "execution_count": 1,
      "metadata": {
        "collapsed": true,
        "jupyter": {
          "source_hidden": false,
          "outputs_hidden": false
        },
        "nteract": {
          "transient": {
            "deleting": false
          }
        },
        "execution": {
          "iopub.status.busy": "2020-11-05T08:54:00.990Z",
          "iopub.execute_input": "2020-11-05T08:54:01.529Z",
          "iopub.status.idle": "2020-11-05T08:54:11.587Z"
        }
      }
    },
    {
      "cell_type": "code",
      "source": [
        "using JLD\n",
        "using SparseArrays\n",
        "data=load(\"stanford.jld\")\n",
        "a=data[\"a\"]\n",
        "S=data[\"S\"]"
      ],
      "outputs": [
        {
          "output_type": "execute_result",
          "execution_count": 1,
          "data": {
            "text/plain": "281903×281903 SparseMatrixCSC{Float64,Int64} with 2312497 stored entries:\n  [872   ,      2]  =  1.0\n  [1281  ,      2]  =  1.0\n  [12094 ,      2]  =  0.0108696\n  [17093 ,      2]  =  0.333333\n  [17794 ,      2]  =  1.0\n  [19147 ,      2]  =  0.5\n  [20923 ,      2]  =  1.0\n  [25202 ,      2]  =  1.0\n  [31702 ,      2]  =  1.0\n  [35877 ,      2]  =  1.0\n  [52411 ,      2]  =  1.0\n  [53625 ,      2]  =  1.0\n  ⋮\n  [101476, 281901]  =  0.00806452\n  [68137 , 281902]  =  0.004329\n  [86741 , 281902]  =  0.004329\n  [119658, 281902]  =  0.004329\n  [168703, 281902]  =  0.004329\n  [180771, 281902]  =  0.004329\n  [266504, 281902]  =  0.142857\n  [275189, 281902]  =  0.142857\n  [44103 , 281903]  =  0.142857\n  [90591 , 281903]  =  0.025\n  [144837, 281903]  =  0.025\n  [216688, 281903]  =  0.25\n  [256539, 281903]  =  0.142857"
          },
          "metadata": {}
        }
      ],
      "execution_count": 1,
      "metadata": {
        "collapsed": true,
        "jupyter": {
          "source_hidden": false,
          "outputs_hidden": false
        },
        "nteract": {
          "transient": {
            "deleting": false
          }
        },
        "execution": {
          "iopub.status.busy": "2020-11-05T19:51:07.635Z",
          "iopub.execute_input": "2020-11-05T19:51:08.252Z",
          "iopub.status.idle": "2020-11-05T19:51:17.224Z"
        }
      }
    },
    {
      "cell_type": "code",
      "source": [
        "using SparseArrays\n",
        "\n",
        "n=size(S)[1]\n",
        "u=1/n*ones(n,1)\n",
        "alpha=.95\n",
        "e=ones(n,1)\n",
        "w=alpha*a+(1-alpha)*e\n",
        "\n",
        "v=zeros(n,1)\n",
        "v[1]=1\n",
        "v=v'\n",
        "for i=1:100\n",
        "  v=alpha*v*S+(v*w)*u'\n",
        "end\n",
        "\n",
        "Ranking=sortperm(v[1,:],rev=true)"
      ],
      "outputs": [
        {
          "output_type": "execute_result",
          "execution_count": 2,
          "data": {
            "text/plain": "281903-element Array{Int64,1}:\n  89073\n 226411\n 241454\n 262860\n 179645\n 136821\n  68889\n 272442\n 251796\n  95163\n 281772\n 119479\n 174665\n      ⋮\n 281627\n 281646\n 281647\n 281700\n 281715\n 281728\n 281778\n 281785\n 281813\n 281849\n 281865\n 281888"
          },
          "metadata": {}
        }
      ],
      "execution_count": 2,
      "metadata": {
        "collapsed": true,
        "jupyter": {
          "source_hidden": false,
          "outputs_hidden": false
        },
        "nteract": {
          "transient": {
            "deleting": false
          }
        },
        "execution": {
          "iopub.status.busy": "2020-11-05T19:51:17.241Z",
          "iopub.execute_input": "2020-11-05T19:51:17.251Z",
          "iopub.status.idle": "2020-11-05T19:51:20.989Z"
        }
      }
    },
    {
      "cell_type": "code",
      "source": [
        "top_ten=Ranking[1:10]\n",
        "entries=ones(10,1)\n",
        "for i=1:10\n",
        "  entries[i]=v[top_ten[i]]\n",
        "end\n",
        "entries\n",
        "\n",
        "p=[x z]"
      ],
      "outputs": [
        {
          "output_type": "execute_result",
          "execution_count": 11,
          "data": {
            "text/plain": "10×2 Array{Float64,2}:\n  89073.0  0.0124188\n 226411.0  0.0074726\n 241454.0  0.00607253\n 262860.0  0.00426585\n 179645.0  0.00340594\n 136821.0  0.00268018\n  68889.0  0.00265233\n 272442.0  0.00231287\n 251796.0  0.00231287\n  95163.0  0.00231287"
          },
          "metadata": {}
        }
      ],
      "execution_count": 11,
      "metadata": {
        "collapsed": true,
        "jupyter": {
          "source_hidden": false,
          "outputs_hidden": false
        },
        "nteract": {
          "transient": {
            "deleting": false
          }
        },
        "execution": {
          "iopub.status.busy": "2020-11-05T19:56:02.493Z",
          "iopub.execute_input": "2020-11-05T19:56:02.499Z",
          "iopub.status.idle": "2020-11-05T19:56:02.511Z"
        }
      }
    }
  ],
  "metadata": {
    "kernel_info": {
      "name": "julia-1.5"
    },
    "language_info": {
      "file_extension": ".jl",
      "name": "julia",
      "mimetype": "application/julia",
      "version": "1.5.0"
    },
    "kernelspec": {
      "argv": [
        "C:\\Users\\theve\\AppData\\Local\\Programs\\Julia 1.5.0\\bin\\julia.exe",
        "-i",
        "--startup-file=yes",
        "--color=yes",
        "--project=@.",
        "C:\\Users\\theve\\.julia\\packages\\IJulia\\tOM8L\\src\\kernel.jl",
        "{connection_file}"
      ],
      "display_name": "Julia 1.5.0",
      "env": {},
      "interrupt_mode": "message",
      "language": "julia",
      "name": "julia-1.5"
    },
    "nteract": {
      "version": "0.26.0"
    }
  },
  "nbformat": 4,
  "nbformat_minor": 0
}